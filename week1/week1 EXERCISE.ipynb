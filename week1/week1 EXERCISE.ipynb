{
 "cells": [
  {
   "cell_type": "markdown",
   "id": "fe12c203-e6a6-452c-a655-afb8a03a4ff5",
   "metadata": {},
   "source": [
    "# End of week 1 exercise\n",
    "\n",
    "To demonstrate your familiarity with OpenAI API, and also Ollama, build a tool that takes a technical question,  \n",
    "and responds with an explanation. This is a tool that you will be able to use yourself during the course!"
   ]
  },
  {
   "cell_type": "code",
   "execution_count": 73,
   "id": "c1070317-3ed9-4659-abe3-828943230e03",
   "metadata": {},
   "outputs": [],
   "source": [
    "# imports\n",
    "import os\n",
    "from typing import Iterable\n",
    "from openai import OpenAI\n",
    "from openai.types.chat import ChatCompletionMessageParam\n",
    "from ollama import chat\n",
    "from IPython.display import Markdown, display, update_display\n",
    "from dotenv import load_dotenv\n",
    "import ipywidgets as widgets"
   ]
  },
  {
   "cell_type": "code",
   "execution_count": 5,
   "id": "4a456906-915a-4bfd-bb9d-57e505c5093f",
   "metadata": {},
   "outputs": [],
   "source": [
    "# constants\n",
    "MODEL_GPT = 'gpt-4o-mini'\n",
    "MODEL_LLAMA = 'llama3.2'"
   ]
  },
  {
   "cell_type": "code",
   "execution_count": 11,
   "id": "a8d7923c-5f28-4c30-8556-342d7c8497c1",
   "metadata": {},
   "outputs": [],
   "source": [
    "# set up environment\n",
    "load_dotenv(override=True)\n",
    "api_key = os.getenv('OPENAI_API_KEY')\n",
    "\n",
    "openai = OpenAI(api_key=api_key)"
   ]
  },
  {
   "cell_type": "code",
   "execution_count": 101,
   "id": "3f0d0137-52b0-47a8-81a8-11a90a010798",
   "metadata": {},
   "outputs": [],
   "source": [
    "# here is the question; type over this to ask something new\n",
    "\n",
    "\n",
    "class Explainer:\n",
    "    def __init__(self, code: str, model=MODEL_GPT, chat=openai.chat.completions.create):\n",
    "        self.model = model\n",
    "        self.chat = chat\n",
    "        self.messages: Iterable[ChatCompletionMessageParam] = [\n",
    "            {\n",
    "                \"role\": \"system\",\n",
    "                \"content\": \"\"\"\n",
    "Please explain the code that you recieve from the user. \\\n",
    "respond in rich formatted markdown. No need to put this into a markdown code block.\n",
    "\"\"\"\n",
    "            },\n",
    "            {\n",
    "                \"role\": \"user\",\n",
    "                \"content\": f\"Please summarize this code: \\n\\n```{code}```\\n\"\n",
    "            }\n",
    "        ]\n",
    "\n",
    "    def explain(self):\n",
    "        return self.chat(\n",
    "            messages=self.messages,\n",
    "            model=self.model,\n",
    "            stream=True\n",
    "        )\n",
    "\n",
    "    def explain_ipy_stream(self):\n",
    "        stream = self.explain()\n",
    "        response = \"\"\n",
    "        display_handle = display(Markdown(\"\"), display_id=True)\n",
    "        for chunk in stream:\n",
    "            if \"choices\" in chunk or \"choices\" in chunk.__dict__:\n",
    "                response += chunk.choices[0].delta.content or ''\n",
    "            else:\n",
    "                response += chunk['message']['content'] or ''\n",
    "            response = response.replace(\"<think>\", \"\"\"\n",
    "<details>\n",
    "  <summary>Think Block</summary>\n",
    "  <div class=\"think-block\">\n",
    "\"\"\").replace(\"</think>\", \"\"\"\n",
    "  </div>\n",
    "</details>\n",
    "\"\"\")\n",
    "            update_display(Markdown(response), display_id=display_handle.display_id)\n",
    "            \n",
    "\n",
    "code = \"\"\"yield from {book.get(\"author\") for book in books if book.get(\"author\")}\"\"\""
   ]
  },
  {
   "cell_type": "code",
   "execution_count": 89,
   "id": "60ce7000-a4a5-4cce-a261-e75ef45063b4",
   "metadata": {},
   "outputs": [
    {
     "data": {
      "text/markdown": [
       "The provided code snippet uses the `yield from` expression in conjunction with a set comprehension. Let's break it down step by step:\n",
       "\n",
       "### Components of the Code\n",
       "\n",
       "1. **Set Comprehension**: \n",
       "   - `{book.get(\"author\") for book in books if book.get(\"author\")}` creates a set of authors. \n",
       "   - It iterates over each element in the `books` iterable (which should be a list or similar of book objects, assumed to be dictionaries).\n",
       "   - For each `book`, it uses `book.get(\"author\")` to retrieve the value associated with the key `\"author\"`.\n",
       "   - The condition `if book.get(\"author\")` ensures that only books with a valid (non-None) author will be included in the resulting set.\n",
       "\n",
       "2. **`yield from`**:\n",
       "   - `yield from` is a special syntax in Python that is used to yield all values from an iterable.\n",
       "   - In this context, it yields each author from the set created by the set comprehension.\n",
       "\n",
       "### What the Code Does\n",
       "\n",
       "- The code effectively collects all unique authors from a list of books, ensuring that only those with a defined author are included.\n",
       "- It then yields each author one by one, allowing for iteration over them, typically in the context of a generator function.\n",
       "\n",
       "### Example Breakdown\n",
       "\n",
       "Consider the following example:\n",
       "\n",
       "```python\n",
       "books = [\n",
       "    {\"title\": \"Book 1\", \"author\": \"Author A\"},\n",
       "    {\"title\": \"Book 2\", \"author\": \"Author B\"},\n",
       "    {\"title\": \"Book 3\", \"author\": None},\n",
       "    {\"title\": \"Book 4\", \"author\": \"Author A\"},\n",
       "]\n",
       "\n",
       "yield from {book.get(\"author\") for book in books if book.get(\"author\")}\n",
       "```\n",
       "\n",
       "In this example:\n",
       "- The set comprehension would evaluate and yield `{\"Author A\", \"Author B\"}`.\n",
       "- The `yield from` statement would yield these values iteratively.\n",
       "\n",
       "### Conclusion\n",
       "\n",
       "In summary, this code snippet is used to extract and yield unique author names from a list of book dictionaries, excluding any entries where the author is not specified."
      ],
      "text/plain": [
       "<IPython.core.display.Markdown object>"
      ]
     },
     "metadata": {},
     "output_type": "display_data"
    }
   ],
   "source": [
    "# Get gpt-4o-mini to answer, with streaming\n",
    "Explainer(code).explain_ipy_stream()"
   ]
  },
  {
   "cell_type": "code",
   "execution_count": 95,
   "id": "8f7c8ea8-4082-4ad0-8751-3301adcf6538",
   "metadata": {},
   "outputs": [
    {
     "data": {
      "text/markdown": [
       "**Code Explanation**\n",
       "\n",
       "This line of code uses a combination of string manipulation techniques and list comprehension.\n",
       "\n",
       "* `book.upper()` converts each book title to uppercase.\n",
       "* The `for` loop iterates over each item (`book`) in the `books` collection ( likely a list or tuple).\n",
       "* `[...]` defines a new list that will contain the results of applying the `upper()` function to each book title.\n",
       "* The resulting list is created and stored in a new variable, but its contents are not explicitly printed or returned.\n",
       "\n",
       "**Purpose**\n",
       "\n",
       "The purpose of this code snippet appears to be data transformation. Specifically, it takes a collection of book titles and returns a new collection containing the same titles, but all converted to uppercase.\n",
       "\n",
       "For example, if `books` is `['Harry Potter', 'The Lord of the Rings', 'Pride and Prejudice']`, the output would be `[ 'HARRY POTTER', 'THE LORD OF THE RINGS', 'PRIDE AND PREJUDICE' ]`."
      ],
      "text/plain": [
       "<IPython.core.display.Markdown object>"
      ]
     },
     "metadata": {},
     "output_type": "display_data"
    }
   ],
   "source": [
    "# Get Llama 3.2 to answer\n",
    "Explainer(\"[book.upper() for book in books]\", chat=chat, model=MODEL_LLAMA).explain_ipy_stream()"
   ]
  },
  {
   "cell_type": "code",
   "execution_count": 80,
   "id": "7e959939-bea2-49cf-a909-d91b1cd95885",
   "metadata": {},
   "outputs": [
    {
     "data": {
      "text/markdown": [
       "\n",
       "<details>\n",
       "  <summary>Think Block</summary>\n",
       "  <div class=\"think-block\">\n",
       "\n",
       "Okay, so I'm looking at this Python code snippet: `yield from {book.get(\"author\") for book in books if book.get(\"author\")}`. Hmm, let me try to understand what's going on here.\n",
       "\n",
       "First off, there's a generator expression inside curly braces, which makes me think it's creating a set of authors because the curly braces denote a set in Python. The `get(\"author\")` part suggests that each book in the `books` list has an \"author\" key. So for each book in `books`, we're getting the author and adding them to this set.\n",
       "\n",
       "But wait, why are they using a set? Sets automatically handle uniqueness, so if multiple books have the same author, only one instance is kept. That's probably intentional here to avoid duplicates.\n",
       "\n",
       "Then there's the `yield from` part. I remember that `yield from` is used in generators to send back each value one by one to the caller instead of returning a single value. So this code is creating an iterator over the set of authors, which means whatever function or loop calls this will get each author one at a time.\n",
       "\n",
       "Putting it all together, it looks like someone is trying to collect all unique authors from their list of books and then iterate through them in a way that allows for one-by-one access. Maybe they want to display each author individually or perform some operation on each without regard to order since sets are unordered.\n",
       "\n",
       "I should also consider if there's any potential issue here. Since it's using `get(\"author\")`, I assume all books have this key, but maybe in a real scenario, we should add error handling just in case some books don't have an author. But that might be beyond the current code's scope.\n",
       "\n",
       "So overall, this line is efficiently collecting unique authors and iterating through them in a clean way using Python's generator expressions and iterators.\n",
       "\n",
       "  </div>\n",
       "</details>\n",
       "\n",
       "\n",
       "The provided code snippet appears to be part of a generator expression within a `yield` statement. Let me break it down for you:\n",
       "\n",
       "1. **Generator Expression**: `{book.get(\"author\") for book in books if book.get(\"author\")}`  \n",
       "   - This creates a set of unique authors by iterating through each item (`book`) in the `books` collection.\n",
       "   - For each book, it retrieves the value associated with the key `\"author\"`.\n",
       "\n",
       "2. **Set**: `{...}`  \n",
       "   - The curly braces denote that we're creating a set data structure from these retrieved values.\n",
       "   - Sets automatically handle duplicates, so only unique authors are included in the final result.\n",
       "\n",
       "3. **`yield from`**: `yield from {book.get(\"author\") for book in books if book.get(\"author\")}`  \n",
       "   - The `yield from` keyword is used to iterate over each element of the set created by the generator expression.\n",
       "   - This means that each author will be yielded (i.e., sent back) one at a time to whatever called this code.\n",
       "\n",
       "This code is likely part of a function or script where you want to process authors one at a time, perhaps for logging, display, or further processing without storing all results in memory."
      ],
      "text/plain": [
       "<IPython.core.display.Markdown object>"
      ]
     },
     "metadata": {},
     "output_type": "display_data"
    }
   ],
   "source": [
    "Explainer(code, chat=chat, model='deepseek-r1:7b').explain_ipy_stream()"
   ]
  },
  {
   "cell_type": "code",
   "execution_count": 105,
   "id": "e981ae22-2810-4573-88e9-61f740b6a31a",
   "metadata": {},
   "outputs": [
    {
     "data": {
      "text/markdown": [
       "\n",
       "<details>\n",
       "  <summary>Think Block</summary>\n",
       "  <div class=\"think-block\">\n",
       "\n",
       "Okay, so I'm looking at this Python script and it's part of a class called Diagnostics. The user wants me to summarize what this code does. Hmm, let me start by reading through the code step by step.\n",
       "\n",
       "First, there's an import statement for os, which is pretty standard in Unix-like environments. Then there's a Diagnostics class defined with several methods: run() and a bunch of others like _stepX_environment_variables. These method names look familiar; maybe they're part of some existing framework or library.\n",
       "\n",
       "Looking at the run() method, it seems to loop through each step from 1 to 9 and calls execute_step(). Each step is handled by these helper methods like _step1_check_process_state. So this must be a test suite or diagnostic tool for checking various system conditions.\n",
       "\n",
       "Each step has its own purpose. For example, the first step probably checks if something in the process state is running correctly. The second might verify that Python's import mechanism works without issues by testing __import__ and loading modules like 'doctest'. \n",
       "\n",
       "There are exceptions being caught here, so it's designed to handle errors gracefully. Each error logged with a specific message, which helps in debugging.\n",
       "\n",
       "Then there are helper methods for checking environment variables, such as OPENAI_API_KEY. These are important because they set up the security aspects of the application. For instance, if the API key is not properly formatted, it logs a warning instead of failing silently.\n",
       "\n",
       "The code also includes checks for PYTHONPATH and sys.path to ensure that Python's import paths are correctly configured. This is crucial for environments with multiple projects or virtual environments.\n",
       "\n",
       "There's a section about site-packages directories where it checks for potential name conflicts in files like 'openai.py' or 'dotenv.py'. These files could cause issues if they exist outside of their intended places, so the warnings help prevent problems during import.\n",
       "\n",
       "The speedtest-cli part is interesting. It uses the speedtest library to check network performance. If the test fails due to configuration issues or exceptions, appropriate error messages are logged.\n",
       "\n",
       "Additionally, it checks the current directory and sys.path for potential conflicts between modules, which could interfere with each other if not properly managed.\n",
       "\n",
       "Finally, there's a temp directory check using the tempfile module. It verifies if temporary files can be written to that location without issues.\n",
       "\n",
       "Putting it all together, this Diagnostics class seems comprehensive, covering system processes, Python environment setup, security configurations like API keys, network performance, and code structure for potential conflicts. Each step is designed to catch common issues early in the development process.\n",
       "\n",
       "  </div>\n",
       "</details>\n",
       "\n",
       "\n",
       "The provided code appears to be part of a `Diagnostics` class that contains methods for performing various diagnostic checks on a computer system or software environment. The class includes multiple helper methods (`_step1_check_process_state`, `_step2_check_python_interpreter`, etc.), each corresponding to a specific diagnostic test.\n",
       "\n",
       "### Key Features and Functionality:\n",
       "\n",
       "1. **Process State Check**:\n",
       "   - Verifies if something in the process state is running correctly.\n",
       "   - Looks for exceptions or errors in system processes.\n",
       "\n",
       "2. **Python Interpreter Verification**:\n",
       "   - Tests Python's import mechanism by attempting to import `__import__` and load specific modules (e.g., `doctest`).\n",
       "   - Verifies that module names are set correctly after loading.\n",
       "\n",
       "3. **Environment Variables Check**:\n",
       "   - Retrieves and verifies the contents of environment variables like `OPENAI_API_KEY`.\n",
       "   - Logs warnings if variable formats are incorrect or not present.\n",
       "\n",
       "4. **Network Connectivity Test**:\n",
       "   - Uses the `speedtest-cli` tool to measure download and upload speeds.\n",
       "   - Verifies network performance by testing response times and bandwidth.\n",
       "\n",
       "5. **Python Path Validation**:\n",
       "   - Checks that Python's `PYTHONPATH` environment variable is configured correctly.\n",
       "   - Verifies that the current directory does not contain files with naming conflicts (`openai.py`, `dotenv.py`).\n",
       "   - Inspects each path in `sys.path` for potential conflicts and hidden directories.\n",
       "\n",
       "6. **Site-Package Directories Check**:\n",
       "   - Verifies that there are no unintended changes or additions to the site-packages directories.\n",
       "   - Looks for files with conflicting names (e.g., `openai.py`, `dotenv.py`) in these directories.\n",
       "\n",
       "7. **Temporary File Write Check**:\n",
       "   - Tests if temporary files can be written to the current working directory without issues.\n",
       "\n",
       "8. **Speedtest Configuration Retrieval**:\n",
       "   - Retrieves configuration settings required by the speedtest-cli tool.\n",
       "   - Verifies that network tests are performed correctly and logs any warnings related to low speeds.\n",
       "\n",
       "### Error Handling:\n",
       "\n",
       "- The code is designed with proper error handling in place, catching exceptions at each step and logging appropriate messages for debugging purposes.\n",
       "- Exceptions such as `ImportError`, `ValueError`, or `requests.exceptions.RequestException` are handled gracefully by logging errors or warnings instead of crashing the program.\n",
       "\n",
       "### Logging:\n",
       "\n",
       "- Each diagnostic check logs relevant information to standard output (stdout).\n",
       "- Log messages are descriptive, providing context about what was tested and any issues encountered.\n",
       "- Warnings are logged for specific conditions that could potentially cause problems but do not halt execution.\n",
       "\n",
       "### Usage:\n",
       "\n",
       "The `Diags` class is intended to be used as a test suite or diagnostic tool. The `run()` method orchestrates the execution of all diagnostic steps, each handled by helper methods.\n",
       "\n",
       "In summary, this code provides a comprehensive set of tools for verifying various aspects of system configuration and performance, ensuring that software developed using this framework runs in an expected environment without conflicts or issues."
      ],
      "text/plain": [
       "<IPython.core.display.Markdown object>"
      ]
     },
     "metadata": {},
     "output_type": "display_data"
    }
   ],
   "source": [
    "with open('./diagnostics.py', 'r') as fh:\n",
    "    code = fh.read()\n",
    "    Explainer(code, chat=chat, model='deepseek-r1:7b').explain_ipy_stream()"
   ]
  },
  {
   "cell_type": "code",
   "execution_count": null,
   "id": "799311b4-8bc9-4271-a0e2-fd05d098d130",
   "metadata": {},
   "outputs": [],
   "source": []
  }
 ],
 "metadata": {
  "kernelspec": {
   "display_name": "Python 3 (ipykernel)",
   "language": "python",
   "name": "python3"
  },
  "language_info": {
   "codemirror_mode": {
    "name": "ipython",
    "version": 3
   },
   "file_extension": ".py",
   "mimetype": "text/x-python",
   "name": "python",
   "nbconvert_exporter": "python",
   "pygments_lexer": "ipython3",
   "version": "3.11.11"
  }
 },
 "nbformat": 4,
 "nbformat_minor": 5
}
